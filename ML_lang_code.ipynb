{
 "cells": [
  {
   "cell_type": "code",
   "execution_count": 1,
   "metadata": {},
   "outputs": [],
   "source": [
    "from sklearn import svm, metrics\n",
    "import glob, os.path, re, json\n",
    "\n",
    "# re: 정규표현식\n",
    "# 파일 저장 시 json 형태로 저장하기 위해 json import"
   ]
  },
  {
   "cell_type": "markdown",
   "metadata": {},
   "source": [
    "#### Code 해석 순서\n",
    "1. main 부터 찾아서 해석\n",
    "2. 함수 선언은 main 위쪽 ( 호출이 빠른 순서대로 main과 가까운 위치 )"
   ]
  },
  {
   "cell_type": "code",
   "execution_count": 2,
   "metadata": {},
   "outputs": [],
   "source": [
    "def check_freq(fname):\n",
    "#     file open + 음절계산\n",
    "    \n",
    "    with open(fname, 'r', encoding='utf-8') as f:\n",
    "#         readLines() 쓰지 않은 이유: 음절 단위로 끊으므로 줄바꿈 고려X\n",
    "        text = f.read()        \n",
    "        pass\n",
    "    text = text.lower()\n",
    "    \n",
    "    cnt = [ 0 for n in range(0,26) ]\n",
    "#     메모리 비효율성( 문자 -> 숫자 -> 문자 ) 해결 위해 Ascii 코드 변환\n",
    "    code_a = ord('a')\n",
    "    code_z = ord('z')\n",
    "    \n",
    "    for ch in text:\n",
    "        n = ord(ch)\n",
    "        if code_a <= n <= code_z:\n",
    "            cnt[ n - code_a ] += 1\n",
    "            pass\n",
    "        pass\n",
    "    \n",
    "#     정규화하기 ( text간 상대 비교하기 위해 )\n",
    "    total = sum(cnt)\n",
    "    freq = list( map( lambda x: x / total, cnt ) )\n",
    "    \n",
    "#     lang????\n",
    "    name = os.path.basename(fname)\n",
    "#     r: unicode 방식에 맞춰 매핑(즉, 한글도 포함)\n",
    "#     ^: 시작점부터 // group(): match 결과 반환\n",
    "    lang = re.match(r'^[a-z]{2,}', name).group()\n",
    "        \n",
    "    return freq, lang\n",
    "    \n",
    "\n",
    "\n",
    "def load_files(path):\n",
    "    freqs = []\n",
    "    labels = []\n",
    "    file_list = glob.glob(path)\n",
    "    for fname in file_list:\n",
    "        r = check_freq(fname)\n",
    "        freqs.append(r[0])\n",
    "        labels.append(r[1])\n",
    "        pass\n",
    "    # 전처리된 dataset을 json 형태로 저장하기 위한 data 구조\n",
    "    return {'freqs': freqs, 'labels': labels}\n",
    "\n",
    "\n",
    "##### main 시작\n",
    "\n",
    "data = load_files('./lang/train/*.txt')\n",
    "test = load_files('./lang/test/*.txt')\n",
    "\n",
    "# 전처리된 dataset을 json 형태로 저장\n",
    "with open('./lang/freq.json', 'w', encoding = 'utf-8') as fp:\n",
    "    json.dump([data, test],fp)\n",
    "    pass"
   ]
  },
  {
   "cell_type": "markdown",
   "metadata": {},
   "source": [
    "### 모델 학습"
   ]
  }
 ],
 "metadata": {
  "kernelspec": {
   "display_name": "Python 3",
   "language": "python",
   "name": "python3"
  },
  "language_info": {
   "codemirror_mode": {
    "name": "ipython",
    "version": 3
   },
   "file_extension": ".py",
   "mimetype": "text/x-python",
   "name": "python",
   "nbconvert_exporter": "python",
   "pygments_lexer": "ipython3",
   "version": "3.7.4"
  }
 },
 "nbformat": 4,
 "nbformat_minor": 2
}
