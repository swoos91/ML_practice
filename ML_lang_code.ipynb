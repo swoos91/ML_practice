{
 "cells": [
  {
   "cell_type": "code",
   "execution_count": 1,
   "metadata": {},
   "outputs": [],
   "source": [
    "from sklearn import svm, metrics\n",
    "import glob, os.path, re, json\n",
    "\n",
    "# re: 정규표현식\n",
    "# 파일 저장 시 json 형태로 저장하기 위해 json import"
   ]
  },
  {
   "cell_type": "markdown",
   "metadata": {},
   "source": [
    "#### Code 해석 순서\n",
    "1. main 부터 찾아서 해석\n",
    "2. 함수 선언은 main 위쪽 ( 호출이 빠른 순서대로 main과 가까운 위치 )"
   ]
  },
  {
   "cell_type": "code",
   "execution_count": 2,
   "metadata": {},
   "outputs": [],
   "source": [
    "def check_freq(fname):\n",
    "#     file open + 음절계산\n",
    "    \n",
    "    with open(fname, 'r', encoding='utf-8') as f:\n",
    "#         readLines() 쓰지 않은 이유: 음절 단위로 끊으므로 줄바꿈 고려X\n",
    "        text = f.read()        \n",
    "        pass\n",
    "    text = text.lower()\n",
    "    \n",
    "    cnt = [ 0 for n in range(0,26) ]\n",
    "#     메모리 비효율성( 문자 -> 숫자 -> 문자 ) 해결 위해 Ascii 코드 변환\n",
    "    code_a = ord('a')\n",
    "    code_z = ord('z')\n",
    "    \n",
    "    for ch in text:\n",
    "        n = ord(ch)\n",
    "        if code_a <= n <= code_z:\n",
    "            cnt[ n - code_a ] += 1\n",
    "            pass\n",
    "        pass\n",
    "    \n",
    "#     정규화하기 ( text간 상대 비교하기 위해 )\n",
    "    total = sum(cnt)\n",
    "    freq = list( map( lambda x: x / total, cnt ) )\n",
    "    \n",
    "#     lang????\n",
    "    name = os.path.basename(fname)\n",
    "#     r: unicode 방식에 맞춰 매핑(즉, 한글도 포함)\n",
    "#     ^: 시작점부터 // group(): match 결과 반환\n",
    "    lang = re.match(r'^[a-z]{2,}', name).group()\n",
    "        \n",
    "    return freq, lang\n",
    "    \n",
    "\n",
    "\n",
    "def load_files(path):\n",
    "    freqs = []\n",
    "    labels = []\n",
    "    file_list = glob.glob(path)\n",
    "    for fname in file_list:\n",
    "        r = check_freq(fname)\n",
    "        freqs.append(r[0])\n",
    "        labels.append(r[1])\n",
    "        pass\n",
    "    # 전처리된 dataset을 json 형태로 저장하기 위한 data 구조\n",
    "    return {'freqs': freqs, 'labels': labels}\n",
    "\n",
    "\n",
    "##### main 시작\n",
    "\n",
    "data = load_files('./lang/train/*.txt')\n",
    "test = load_files('./lang/test/*.txt')\n",
    "\n",
    "# 전처리된 dataset을 json 형태로 저장\n",
    "with open('./lang/freq.json', 'w', encoding = 'utf-8') as fp:\n",
    "    json.dump([data, test],fp)\n",
    "    pass"
   ]
  },
  {
   "cell_type": "markdown",
   "metadata": {},
   "source": [
    "### 모델 학습"
   ]
  },
  {
   "cell_type": "markdown",
   "metadata": {},
   "source": [
    "SVM(Support Vector Machine):<br>경계선에 놓여있는 데이터들을 분류/수치화 하는 알고리즘<br>SVC: 분류"
   ]
  },
  {
   "cell_type": "code",
   "execution_count": 17,
   "metadata": {},
   "outputs": [
    {
     "name": "stderr",
     "output_type": "stream",
     "text": [
      "C:\\Users\\student\\Anaconda3\\lib\\site-packages\\sklearn\\svm\\base.py:193: FutureWarning: The default value of gamma will change from 'auto' to 'scale' in version 0.22 to account better for unscaled features. Set gamma explicitly to 'auto' or 'scale' to avoid this warning.\n",
      "  \"avoid this warning.\", FutureWarning)\n"
     ]
    },
    {
     "data": {
      "text/plain": [
       "SVC(C=1.0, cache_size=200, class_weight=None, coef0=0.0,\n",
       "    decision_function_shape='ovr', degree=3, gamma='auto_deprecated',\n",
       "    kernel='rbf', max_iter=-1, probability=False, random_state=None,\n",
       "    shrinking=True, tol=0.001, verbose=False)"
      ]
     },
     "execution_count": 17,
     "metadata": {},
     "output_type": "execute_result"
    }
   ],
   "source": [
    "# json 파일 읽기\n",
    "# import json\n",
    "\n",
    "# with open('./lang/freq.json', 'r', encoding='utf-8') as fp:\n",
    "#     data = json.load(fp)\n",
    "\n",
    "# gamma=20 줄 경우 정답률 1 --> overfitting??\n",
    "clf = svm.SVC()\n",
    "clf.fit(data['freqs'], data['labels'])"
   ]
  },
  {
   "cell_type": "markdown",
   "metadata": {},
   "source": [
    "### 예측"
   ]
  },
  {
   "cell_type": "code",
   "execution_count": 18,
   "metadata": {},
   "outputs": [],
   "source": [
    "predict = clf.predict(test['freqs'])"
   ]
  },
  {
   "cell_type": "markdown",
   "metadata": {},
   "source": [
    "### 결과 테스트"
   ]
  },
  {
   "cell_type": "code",
   "execution_count": 19,
   "metadata": {},
   "outputs": [
    {
     "name": "stdout",
     "output_type": "stream",
     "text": [
      "정답률 =  0.875\n",
      "리포트 =\n",
      "              precision    recall  f1-score   support\n",
      "\n",
      "          en       0.67      1.00      0.80         2\n",
      "          fr       1.00      1.00      1.00         2\n",
      "          id       1.00      0.50      0.67         2\n",
      "          tl       1.00      1.00      1.00         2\n",
      "\n",
      "    accuracy                           0.88         8\n",
      "   macro avg       0.92      0.88      0.87         8\n",
      "weighted avg       0.92      0.88      0.87         8\n",
      "\n"
     ]
    }
   ],
   "source": [
    "ac_score = metrics.accuracy_score(test['labels'], predict)\n",
    "cl_report = metrics.classification_report(test['labels'], predict)\n",
    "print('정답률 = ', ac_score)\n",
    "print('리포트 =')\n",
    "print(cl_report)"
   ]
  },
  {
   "cell_type": "markdown",
   "metadata": {},
   "source": [
    "예측률\n",
    "Accuracy = ( TP + TF ) / ( TP + FP + FN + TF )\n",
    "\n",
    "예측치 기준 정확도\n",
    "Precision = TP / (TP + FP)\n",
    "\n",
    "실측치 기준 재현율\n",
    "recall = TP / ( TP + FN )\n",
    "\n",
    "ex) id해석: 예측한 경우는 다 맞았으나 실제 데이터와 비교 시 반만 맞춤\n",
    "\n",
    "f1-score = 2 * 1 / ( 1/Precision + 1/Recall )<br> = 2 * Precision * Recall / ( Precision + Recall )<br>데이터 label이 불균형 구조일 때 모델의 성능을 정확하게 평가하는 지표( 단순 산술평균을 사용하지 않는 이유 )"
   ]
  },
  {
   "cell_type": "markdown",
   "metadata": {},
   "source": [
    "### 학습 모델 저장"
   ]
  },
  {
   "cell_type": "code",
   "execution_count": 21,
   "metadata": {},
   "outputs": [
    {
     "name": "stdout",
     "output_type": "stream",
     "text": [
      "ok\n"
     ]
    },
    {
     "name": "stderr",
     "output_type": "stream",
     "text": [
      "C:\\Users\\student\\Anaconda3\\lib\\site-packages\\sklearn\\svm\\base.py:193: FutureWarning: The default value of gamma will change from 'auto' to 'scale' in version 0.22 to account better for unscaled features. Set gamma explicitly to 'auto' or 'scale' to avoid this warning.\n",
      "  \"avoid this warning.\", FutureWarning)\n"
     ]
    }
   ],
   "source": [
    "import json, joblib\n",
    "# 각 언어의 출현 빈도 데이터 읽어 들이기\n",
    "with open('./lang/freq.json', 'r', encoding='utf-8') as fp:\n",
    "    d = json.load(fp)\n",
    "    data = d[0]\n",
    "\n",
    "# 데이터 학습하기\n",
    "clf = svm.SVC()\n",
    "clf.fit(data['freqs'], data['labels'])\n",
    "#학습 데이터 저장하기\n",
    "joblib.dump(clf, './lang/freq.pkl')\n",
    "print('ok')"
   ]
  },
  {
   "cell_type": "markdown",
   "metadata": {},
   "source": [
    "### 웹 서버 생성 ( AI server - Web server )\n",
    "\n",
    "#### 이하의 코드는 lang-Webapp.py 로 저장\n",
    "\n",
    "server에서는 무조건 python 코드를 먼저 해석하고 이후 결과값을 html 텍스트 형식으로 리턴"
   ]
  }
 ],
 "metadata": {
  "kernelspec": {
   "display_name": "Python 3",
   "language": "python",
   "name": "python3"
  },
  "language_info": {
   "codemirror_mode": {
    "name": "ipython",
    "version": 3
   },
   "file_extension": ".py",
   "mimetype": "text/x-python",
   "name": "python",
   "nbconvert_exporter": "python",
   "pygments_lexer": "ipython3",
   "version": "3.7.4"
  }
 },
 "nbformat": 4,
 "nbformat_minor": 2
}
